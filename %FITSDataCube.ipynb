{
 "cells": [
  {
   "cell_type": "code",
   "execution_count": 14,
   "metadata": {},
   "outputs": [
    {
     "name": "stdout",
     "output_type": "stream",
     "text": [
      "Collecting ipympl\n",
      "  Downloading ipympl-0.9.7-py3-none-any.whl.metadata (8.7 kB)\n",
      "Requirement already satisfied: ipython<10 in c:\\users\\sumit\\appdata\\roaming\\python\\python312\\site-packages (from ipympl) (8.31.0)\n",
      "Requirement already satisfied: ipywidgets<9,>=7.6.0 in c:\\users\\sumit\\anaconda4\\lib\\site-packages (from ipympl) (7.8.1)\n",
      "Requirement already satisfied: matplotlib<4,>=3.5.0 in c:\\users\\sumit\\anaconda4\\lib\\site-packages (from ipympl) (3.8.4)\n",
      "Requirement already satisfied: numpy in c:\\users\\sumit\\anaconda4\\lib\\site-packages (from ipympl) (1.26.4)\n",
      "Requirement already satisfied: pillow in c:\\users\\sumit\\anaconda4\\lib\\site-packages (from ipympl) (10.3.0)\n",
      "Requirement already satisfied: traitlets<6 in c:\\users\\sumit\\appdata\\roaming\\python\\python312\\site-packages (from ipympl) (5.14.3)\n",
      "Requirement already satisfied: colorama in c:\\users\\sumit\\appdata\\roaming\\python\\python312\\site-packages (from ipython<10->ipympl) (0.4.6)\n",
      "Requirement already satisfied: decorator in c:\\users\\sumit\\appdata\\roaming\\python\\python312\\site-packages (from ipython<10->ipympl) (5.1.1)\n",
      "Requirement already satisfied: jedi>=0.16 in c:\\users\\sumit\\appdata\\roaming\\python\\python312\\site-packages (from ipython<10->ipympl) (0.19.2)\n",
      "Requirement already satisfied: matplotlib-inline in c:\\users\\sumit\\appdata\\roaming\\python\\python312\\site-packages (from ipython<10->ipympl) (0.1.7)\n",
      "Requirement already satisfied: prompt_toolkit<3.1.0,>=3.0.41 in c:\\users\\sumit\\appdata\\roaming\\python\\python312\\site-packages (from ipython<10->ipympl) (3.0.48)\n",
      "Requirement already satisfied: pygments>=2.4.0 in c:\\users\\sumit\\appdata\\roaming\\python\\python312\\site-packages (from ipython<10->ipympl) (2.19.1)\n",
      "Requirement already satisfied: stack_data in c:\\users\\sumit\\appdata\\roaming\\python\\python312\\site-packages (from ipython<10->ipympl) (0.6.3)\n",
      "Requirement already satisfied: comm>=0.1.3 in c:\\users\\sumit\\appdata\\roaming\\python\\python312\\site-packages (from ipywidgets<9,>=7.6.0->ipympl) (0.2.2)\n",
      "Requirement already satisfied: ipython-genutils~=0.2.0 in c:\\users\\sumit\\anaconda4\\lib\\site-packages (from ipywidgets<9,>=7.6.0->ipympl) (0.2.0)\n",
      "Requirement already satisfied: widgetsnbextension~=3.6.6 in c:\\users\\sumit\\anaconda4\\lib\\site-packages (from ipywidgets<9,>=7.6.0->ipympl) (3.6.6)\n",
      "Requirement already satisfied: jupyterlab-widgets<3,>=1.0.0 in c:\\users\\sumit\\anaconda4\\lib\\site-packages (from ipywidgets<9,>=7.6.0->ipympl) (1.0.0)\n",
      "Requirement already satisfied: contourpy>=1.0.1 in c:\\users\\sumit\\anaconda4\\lib\\site-packages (from matplotlib<4,>=3.5.0->ipympl) (1.2.0)\n",
      "Requirement already satisfied: cycler>=0.10 in c:\\users\\sumit\\anaconda4\\lib\\site-packages (from matplotlib<4,>=3.5.0->ipympl) (0.11.0)\n",
      "Requirement already satisfied: fonttools>=4.22.0 in c:\\users\\sumit\\anaconda4\\lib\\site-packages (from matplotlib<4,>=3.5.0->ipympl) (4.51.0)\n",
      "Requirement already satisfied: kiwisolver>=1.3.1 in c:\\users\\sumit\\anaconda4\\lib\\site-packages (from matplotlib<4,>=3.5.0->ipympl) (1.4.4)\n",
      "Requirement already satisfied: packaging>=20.0 in c:\\users\\sumit\\appdata\\roaming\\python\\python312\\site-packages (from matplotlib<4,>=3.5.0->ipympl) (24.2)\n",
      "Requirement already satisfied: pyparsing>=2.3.1 in c:\\users\\sumit\\anaconda4\\lib\\site-packages (from matplotlib<4,>=3.5.0->ipympl) (3.0.9)\n",
      "Requirement already satisfied: python-dateutil>=2.7 in c:\\users\\sumit\\appdata\\roaming\\python\\python312\\site-packages (from matplotlib<4,>=3.5.0->ipympl) (2.9.0.post0)\n",
      "Requirement already satisfied: parso<0.9.0,>=0.8.4 in c:\\users\\sumit\\appdata\\roaming\\python\\python312\\site-packages (from jedi>=0.16->ipython<10->ipympl) (0.8.4)\n",
      "Requirement already satisfied: wcwidth in c:\\users\\sumit\\appdata\\roaming\\python\\python312\\site-packages (from prompt_toolkit<3.1.0,>=3.0.41->ipython<10->ipympl) (0.2.13)\n",
      "Requirement already satisfied: six>=1.5 in c:\\users\\sumit\\appdata\\roaming\\python\\python312\\site-packages (from python-dateutil>=2.7->matplotlib<4,>=3.5.0->ipympl) (1.17.0)\n",
      "Requirement already satisfied: notebook>=4.4.1 in c:\\users\\sumit\\anaconda4\\lib\\site-packages (from widgetsnbextension~=3.6.6->ipywidgets<9,>=7.6.0->ipympl) (7.0.8)\n",
      "Requirement already satisfied: executing>=1.2.0 in c:\\users\\sumit\\appdata\\roaming\\python\\python312\\site-packages (from stack_data->ipython<10->ipympl) (2.1.0)\n",
      "Requirement already satisfied: asttokens>=2.1.0 in c:\\users\\sumit\\appdata\\roaming\\python\\python312\\site-packages (from stack_data->ipython<10->ipympl) (3.0.0)\n",
      "Requirement already satisfied: pure-eval in c:\\users\\sumit\\appdata\\roaming\\python\\python312\\site-packages (from stack_data->ipython<10->ipympl) (0.2.3)\n",
      "Requirement already satisfied: jupyter-server<3,>=2.4.0 in c:\\users\\sumit\\anaconda4\\lib\\site-packages (from notebook>=4.4.1->widgetsnbextension~=3.6.6->ipywidgets<9,>=7.6.0->ipympl) (2.14.1)\n",
      "Requirement already satisfied: jupyterlab-server<3,>=2.22.1 in c:\\users\\sumit\\anaconda4\\lib\\site-packages (from notebook>=4.4.1->widgetsnbextension~=3.6.6->ipywidgets<9,>=7.6.0->ipympl) (2.25.1)\n",
      "Requirement already satisfied: jupyterlab<4.1,>=4.0.2 in c:\\users\\sumit\\anaconda4\\lib\\site-packages (from notebook>=4.4.1->widgetsnbextension~=3.6.6->ipywidgets<9,>=7.6.0->ipympl) (4.0.11)\n",
      "Requirement already satisfied: notebook-shim<0.3,>=0.2 in c:\\users\\sumit\\anaconda4\\lib\\site-packages (from notebook>=4.4.1->widgetsnbextension~=3.6.6->ipywidgets<9,>=7.6.0->ipympl) (0.2.3)\n",
      "Requirement already satisfied: tornado>=6.2.0 in c:\\users\\sumit\\appdata\\roaming\\python\\python312\\site-packages (from notebook>=4.4.1->widgetsnbextension~=3.6.6->ipywidgets<9,>=7.6.0->ipympl) (6.4.2)\n",
      "Requirement already satisfied: anyio>=3.1.0 in c:\\users\\sumit\\anaconda4\\lib\\site-packages (from jupyter-server<3,>=2.4.0->notebook>=4.4.1->widgetsnbextension~=3.6.6->ipywidgets<9,>=7.6.0->ipympl) (4.2.0)\n",
      "Requirement already satisfied: argon2-cffi>=21.1 in c:\\users\\sumit\\anaconda4\\lib\\site-packages (from jupyter-server<3,>=2.4.0->notebook>=4.4.1->widgetsnbextension~=3.6.6->ipywidgets<9,>=7.6.0->ipympl) (21.3.0)\n",
      "Requirement already satisfied: jinja2>=3.0.3 in c:\\users\\sumit\\anaconda4\\lib\\site-packages (from jupyter-server<3,>=2.4.0->notebook>=4.4.1->widgetsnbextension~=3.6.6->ipywidgets<9,>=7.6.0->ipympl) (3.1.4)\n",
      "Requirement already satisfied: jupyter-client>=7.4.4 in c:\\users\\sumit\\appdata\\roaming\\python\\python312\\site-packages (from jupyter-server<3,>=2.4.0->notebook>=4.4.1->widgetsnbextension~=3.6.6->ipywidgets<9,>=7.6.0->ipympl) (8.6.3)\n",
      "Requirement already satisfied: jupyter-core!=5.0.*,>=4.12 in c:\\users\\sumit\\appdata\\roaming\\python\\python312\\site-packages (from jupyter-server<3,>=2.4.0->notebook>=4.4.1->widgetsnbextension~=3.6.6->ipywidgets<9,>=7.6.0->ipympl) (5.7.2)\n",
      "Requirement already satisfied: jupyter-events>=0.9.0 in c:\\users\\sumit\\anaconda4\\lib\\site-packages (from jupyter-server<3,>=2.4.0->notebook>=4.4.1->widgetsnbextension~=3.6.6->ipywidgets<9,>=7.6.0->ipympl) (0.10.0)\n",
      "Requirement already satisfied: jupyter-server-terminals>=0.4.4 in c:\\users\\sumit\\anaconda4\\lib\\site-packages (from jupyter-server<3,>=2.4.0->notebook>=4.4.1->widgetsnbextension~=3.6.6->ipywidgets<9,>=7.6.0->ipympl) (0.4.4)\n",
      "Requirement already satisfied: nbconvert>=6.4.4 in c:\\users\\sumit\\anaconda4\\lib\\site-packages (from jupyter-server<3,>=2.4.0->notebook>=4.4.1->widgetsnbextension~=3.6.6->ipywidgets<9,>=7.6.0->ipympl) (7.10.0)\n",
      "Requirement already satisfied: nbformat>=5.3.0 in c:\\users\\sumit\\anaconda4\\lib\\site-packages (from jupyter-server<3,>=2.4.0->notebook>=4.4.1->widgetsnbextension~=3.6.6->ipywidgets<9,>=7.6.0->ipympl) (5.9.2)\n",
      "Requirement already satisfied: overrides>=5.0 in c:\\users\\sumit\\anaconda4\\lib\\site-packages (from jupyter-server<3,>=2.4.0->notebook>=4.4.1->widgetsnbextension~=3.6.6->ipywidgets<9,>=7.6.0->ipympl) (7.4.0)\n",
      "Requirement already satisfied: prometheus-client>=0.9 in c:\\users\\sumit\\anaconda4\\lib\\site-packages (from jupyter-server<3,>=2.4.0->notebook>=4.4.1->widgetsnbextension~=3.6.6->ipywidgets<9,>=7.6.0->ipympl) (0.14.1)\n",
      "Requirement already satisfied: pywinpty>=2.0.1 in c:\\users\\sumit\\anaconda4\\lib\\site-packages (from jupyter-server<3,>=2.4.0->notebook>=4.4.1->widgetsnbextension~=3.6.6->ipywidgets<9,>=7.6.0->ipympl) (2.0.10)\n",
      "Requirement already satisfied: pyzmq>=24 in c:\\users\\sumit\\appdata\\roaming\\python\\python312\\site-packages (from jupyter-server<3,>=2.4.0->notebook>=4.4.1->widgetsnbextension~=3.6.6->ipywidgets<9,>=7.6.0->ipympl) (26.2.0)\n",
      "Requirement already satisfied: send2trash>=1.8.2 in c:\\users\\sumit\\anaconda4\\lib\\site-packages (from jupyter-server<3,>=2.4.0->notebook>=4.4.1->widgetsnbextension~=3.6.6->ipywidgets<9,>=7.6.0->ipympl) (1.8.2)\n",
      "Requirement already satisfied: terminado>=0.8.3 in c:\\users\\sumit\\anaconda4\\lib\\site-packages (from jupyter-server<3,>=2.4.0->notebook>=4.4.1->widgetsnbextension~=3.6.6->ipywidgets<9,>=7.6.0->ipympl) (0.17.1)\n",
      "Requirement already satisfied: websocket-client>=1.7 in c:\\users\\sumit\\anaconda4\\lib\\site-packages (from jupyter-server<3,>=2.4.0->notebook>=4.4.1->widgetsnbextension~=3.6.6->ipywidgets<9,>=7.6.0->ipympl) (1.8.0)\n",
      "Requirement already satisfied: async-lru>=1.0.0 in c:\\users\\sumit\\anaconda4\\lib\\site-packages (from jupyterlab<4.1,>=4.0.2->notebook>=4.4.1->widgetsnbextension~=3.6.6->ipywidgets<9,>=7.6.0->ipympl) (2.0.4)\n",
      "Requirement already satisfied: ipykernel in c:\\users\\sumit\\appdata\\roaming\\python\\python312\\site-packages (from jupyterlab<4.1,>=4.0.2->notebook>=4.4.1->widgetsnbextension~=3.6.6->ipywidgets<9,>=7.6.0->ipympl) (6.29.5)\n",
      "Requirement already satisfied: jupyter-lsp>=2.0.0 in c:\\users\\sumit\\anaconda4\\lib\\site-packages (from jupyterlab<4.1,>=4.0.2->notebook>=4.4.1->widgetsnbextension~=3.6.6->ipywidgets<9,>=7.6.0->ipympl) (2.2.0)\n",
      "Requirement already satisfied: babel>=2.10 in c:\\users\\sumit\\anaconda4\\lib\\site-packages (from jupyterlab-server<3,>=2.22.1->notebook>=4.4.1->widgetsnbextension~=3.6.6->ipywidgets<9,>=7.6.0->ipympl) (2.11.0)\n",
      "Requirement already satisfied: json5>=0.9.0 in c:\\users\\sumit\\anaconda4\\lib\\site-packages (from jupyterlab-server<3,>=2.22.1->notebook>=4.4.1->widgetsnbextension~=3.6.6->ipywidgets<9,>=7.6.0->ipympl) (0.9.6)\n",
      "Requirement already satisfied: jsonschema>=4.18.0 in c:\\users\\sumit\\anaconda4\\lib\\site-packages (from jupyterlab-server<3,>=2.22.1->notebook>=4.4.1->widgetsnbextension~=3.6.6->ipywidgets<9,>=7.6.0->ipympl) (4.19.2)\n",
      "Requirement already satisfied: requests>=2.31 in c:\\users\\sumit\\anaconda4\\lib\\site-packages (from jupyterlab-server<3,>=2.22.1->notebook>=4.4.1->widgetsnbextension~=3.6.6->ipywidgets<9,>=7.6.0->ipympl) (2.32.2)\n",
      "Requirement already satisfied: idna>=2.8 in c:\\users\\sumit\\anaconda4\\lib\\site-packages (from anyio>=3.1.0->jupyter-server<3,>=2.4.0->notebook>=4.4.1->widgetsnbextension~=3.6.6->ipywidgets<9,>=7.6.0->ipympl) (3.7)\n",
      "Requirement already satisfied: sniffio>=1.1 in c:\\users\\sumit\\anaconda4\\lib\\site-packages (from anyio>=3.1.0->jupyter-server<3,>=2.4.0->notebook>=4.4.1->widgetsnbextension~=3.6.6->ipywidgets<9,>=7.6.0->ipympl) (1.3.0)\n",
      "Requirement already satisfied: argon2-cffi-bindings in c:\\users\\sumit\\anaconda4\\lib\\site-packages (from argon2-cffi>=21.1->jupyter-server<3,>=2.4.0->notebook>=4.4.1->widgetsnbextension~=3.6.6->ipywidgets<9,>=7.6.0->ipympl) (21.2.0)\n",
      "Requirement already satisfied: pytz>=2015.7 in c:\\users\\sumit\\anaconda4\\lib\\site-packages (from babel>=2.10->jupyterlab-server<3,>=2.22.1->notebook>=4.4.1->widgetsnbextension~=3.6.6->ipywidgets<9,>=7.6.0->ipympl) (2024.1)\n",
      "Requirement already satisfied: MarkupSafe>=2.0 in c:\\users\\sumit\\anaconda4\\lib\\site-packages (from jinja2>=3.0.3->jupyter-server<3,>=2.4.0->notebook>=4.4.1->widgetsnbextension~=3.6.6->ipywidgets<9,>=7.6.0->ipympl) (2.1.3)\n",
      "Requirement already satisfied: attrs>=22.2.0 in c:\\users\\sumit\\anaconda4\\lib\\site-packages (from jsonschema>=4.18.0->jupyterlab-server<3,>=2.22.1->notebook>=4.4.1->widgetsnbextension~=3.6.6->ipywidgets<9,>=7.6.0->ipympl) (23.1.0)\n",
      "Requirement already satisfied: jsonschema-specifications>=2023.03.6 in c:\\users\\sumit\\anaconda4\\lib\\site-packages (from jsonschema>=4.18.0->jupyterlab-server<3,>=2.22.1->notebook>=4.4.1->widgetsnbextension~=3.6.6->ipywidgets<9,>=7.6.0->ipympl) (2023.7.1)\n",
      "Requirement already satisfied: referencing>=0.28.4 in c:\\users\\sumit\\anaconda4\\lib\\site-packages (from jsonschema>=4.18.0->jupyterlab-server<3,>=2.22.1->notebook>=4.4.1->widgetsnbextension~=3.6.6->ipywidgets<9,>=7.6.0->ipympl) (0.30.2)\n",
      "Requirement already satisfied: rpds-py>=0.7.1 in c:\\users\\sumit\\anaconda4\\lib\\site-packages (from jsonschema>=4.18.0->jupyterlab-server<3,>=2.22.1->notebook>=4.4.1->widgetsnbextension~=3.6.6->ipywidgets<9,>=7.6.0->ipympl) (0.10.6)\n",
      "Requirement already satisfied: platformdirs>=2.5 in c:\\users\\sumit\\appdata\\roaming\\python\\python312\\site-packages (from jupyter-core!=5.0.*,>=4.12->jupyter-server<3,>=2.4.0->notebook>=4.4.1->widgetsnbextension~=3.6.6->ipywidgets<9,>=7.6.0->ipympl) (4.3.6)\n",
      "Requirement already satisfied: pywin32>=300 in c:\\users\\sumit\\appdata\\roaming\\python\\python312\\site-packages (from jupyter-core!=5.0.*,>=4.12->jupyter-server<3,>=2.4.0->notebook>=4.4.1->widgetsnbextension~=3.6.6->ipywidgets<9,>=7.6.0->ipympl) (308)\n",
      "Requirement already satisfied: python-json-logger>=2.0.4 in c:\\users\\sumit\\anaconda4\\lib\\site-packages (from jupyter-events>=0.9.0->jupyter-server<3,>=2.4.0->notebook>=4.4.1->widgetsnbextension~=3.6.6->ipywidgets<9,>=7.6.0->ipympl) (2.0.7)\n",
      "Requirement already satisfied: pyyaml>=5.3 in c:\\users\\sumit\\anaconda4\\lib\\site-packages (from jupyter-events>=0.9.0->jupyter-server<3,>=2.4.0->notebook>=4.4.1->widgetsnbextension~=3.6.6->ipywidgets<9,>=7.6.0->ipympl) (6.0.1)\n",
      "Requirement already satisfied: rfc3339-validator in c:\\users\\sumit\\anaconda4\\lib\\site-packages (from jupyter-events>=0.9.0->jupyter-server<3,>=2.4.0->notebook>=4.4.1->widgetsnbextension~=3.6.6->ipywidgets<9,>=7.6.0->ipympl) (0.1.4)\n",
      "Requirement already satisfied: rfc3986-validator>=0.1.1 in c:\\users\\sumit\\anaconda4\\lib\\site-packages (from jupyter-events>=0.9.0->jupyter-server<3,>=2.4.0->notebook>=4.4.1->widgetsnbextension~=3.6.6->ipywidgets<9,>=7.6.0->ipympl) (0.1.1)\n",
      "Requirement already satisfied: beautifulsoup4 in c:\\users\\sumit\\anaconda4\\lib\\site-packages (from nbconvert>=6.4.4->jupyter-server<3,>=2.4.0->notebook>=4.4.1->widgetsnbextension~=3.6.6->ipywidgets<9,>=7.6.0->ipympl) (4.12.3)\n",
      "Requirement already satisfied: bleach!=5.0.0 in c:\\users\\sumit\\anaconda4\\lib\\site-packages (from nbconvert>=6.4.4->jupyter-server<3,>=2.4.0->notebook>=4.4.1->widgetsnbextension~=3.6.6->ipywidgets<9,>=7.6.0->ipympl) (4.1.0)\n",
      "Requirement already satisfied: defusedxml in c:\\users\\sumit\\anaconda4\\lib\\site-packages (from nbconvert>=6.4.4->jupyter-server<3,>=2.4.0->notebook>=4.4.1->widgetsnbextension~=3.6.6->ipywidgets<9,>=7.6.0->ipympl) (0.7.1)\n",
      "Requirement already satisfied: jupyterlab-pygments in c:\\users\\sumit\\anaconda4\\lib\\site-packages (from nbconvert>=6.4.4->jupyter-server<3,>=2.4.0->notebook>=4.4.1->widgetsnbextension~=3.6.6->ipywidgets<9,>=7.6.0->ipympl) (0.1.2)\n",
      "Requirement already satisfied: mistune<4,>=2.0.3 in c:\\users\\sumit\\anaconda4\\lib\\site-packages (from nbconvert>=6.4.4->jupyter-server<3,>=2.4.0->notebook>=4.4.1->widgetsnbextension~=3.6.6->ipywidgets<9,>=7.6.0->ipympl) (2.0.4)\n",
      "Requirement already satisfied: nbclient>=0.5.0 in c:\\users\\sumit\\anaconda4\\lib\\site-packages (from nbconvert>=6.4.4->jupyter-server<3,>=2.4.0->notebook>=4.4.1->widgetsnbextension~=3.6.6->ipywidgets<9,>=7.6.0->ipympl) (0.8.0)\n",
      "Requirement already satisfied: pandocfilters>=1.4.1 in c:\\users\\sumit\\anaconda4\\lib\\site-packages (from nbconvert>=6.4.4->jupyter-server<3,>=2.4.0->notebook>=4.4.1->widgetsnbextension~=3.6.6->ipywidgets<9,>=7.6.0->ipympl) (1.5.0)\n",
      "Requirement already satisfied: tinycss2 in c:\\users\\sumit\\anaconda4\\lib\\site-packages (from nbconvert>=6.4.4->jupyter-server<3,>=2.4.0->notebook>=4.4.1->widgetsnbextension~=3.6.6->ipywidgets<9,>=7.6.0->ipympl) (1.2.1)\n",
      "Requirement already satisfied: fastjsonschema in c:\\users\\sumit\\anaconda4\\lib\\site-packages (from nbformat>=5.3.0->jupyter-server<3,>=2.4.0->notebook>=4.4.1->widgetsnbextension~=3.6.6->ipywidgets<9,>=7.6.0->ipympl) (2.16.2)\n",
      "Requirement already satisfied: charset-normalizer<4,>=2 in c:\\users\\sumit\\anaconda4\\lib\\site-packages (from requests>=2.31->jupyterlab-server<3,>=2.22.1->notebook>=4.4.1->widgetsnbextension~=3.6.6->ipywidgets<9,>=7.6.0->ipympl) (2.0.4)\n",
      "Requirement already satisfied: urllib3<3,>=1.21.1 in c:\\users\\sumit\\anaconda4\\lib\\site-packages (from requests>=2.31->jupyterlab-server<3,>=2.22.1->notebook>=4.4.1->widgetsnbextension~=3.6.6->ipywidgets<9,>=7.6.0->ipympl) (2.2.2)\n",
      "Requirement already satisfied: certifi>=2017.4.17 in c:\\users\\sumit\\anaconda4\\lib\\site-packages (from requests>=2.31->jupyterlab-server<3,>=2.22.1->notebook>=4.4.1->widgetsnbextension~=3.6.6->ipywidgets<9,>=7.6.0->ipympl) (2024.6.2)\n",
      "Requirement already satisfied: debugpy>=1.6.5 in c:\\users\\sumit\\appdata\\roaming\\python\\python312\\site-packages (from ipykernel->jupyterlab<4.1,>=4.0.2->notebook>=4.4.1->widgetsnbextension~=3.6.6->ipywidgets<9,>=7.6.0->ipympl) (1.8.11)\n",
      "Requirement already satisfied: nest-asyncio in c:\\users\\sumit\\appdata\\roaming\\python\\python312\\site-packages (from ipykernel->jupyterlab<4.1,>=4.0.2->notebook>=4.4.1->widgetsnbextension~=3.6.6->ipywidgets<9,>=7.6.0->ipympl) (1.6.0)\n",
      "Requirement already satisfied: psutil in c:\\users\\sumit\\appdata\\roaming\\python\\python312\\site-packages (from ipykernel->jupyterlab<4.1,>=4.0.2->notebook>=4.4.1->widgetsnbextension~=3.6.6->ipywidgets<9,>=7.6.0->ipympl) (6.1.1)\n",
      "Requirement already satisfied: webencodings in c:\\users\\sumit\\anaconda4\\lib\\site-packages (from bleach!=5.0.0->nbconvert>=6.4.4->jupyter-server<3,>=2.4.0->notebook>=4.4.1->widgetsnbextension~=3.6.6->ipywidgets<9,>=7.6.0->ipympl) (0.5.1)\n",
      "Collecting fqdn (from jsonschema[format-nongpl]>=4.18.0->jupyter-events>=0.9.0->jupyter-server<3,>=2.4.0->notebook>=4.4.1->widgetsnbextension~=3.6.6->ipywidgets<9,>=7.6.0->ipympl)\n",
      "  Downloading fqdn-1.5.1-py3-none-any.whl.metadata (1.4 kB)\n",
      "Collecting isoduration (from jsonschema[format-nongpl]>=4.18.0->jupyter-events>=0.9.0->jupyter-server<3,>=2.4.0->notebook>=4.4.1->widgetsnbextension~=3.6.6->ipywidgets<9,>=7.6.0->ipympl)\n",
      "  Downloading isoduration-20.11.0-py3-none-any.whl.metadata (5.7 kB)\n",
      "Requirement already satisfied: jsonpointer>1.13 in c:\\users\\sumit\\anaconda4\\lib\\site-packages (from jsonschema[format-nongpl]>=4.18.0->jupyter-events>=0.9.0->jupyter-server<3,>=2.4.0->notebook>=4.4.1->widgetsnbextension~=3.6.6->ipywidgets<9,>=7.6.0->ipympl) (2.1)\n",
      "Collecting uri-template (from jsonschema[format-nongpl]>=4.18.0->jupyter-events>=0.9.0->jupyter-server<3,>=2.4.0->notebook>=4.4.1->widgetsnbextension~=3.6.6->ipywidgets<9,>=7.6.0->ipympl)\n",
      "  Downloading uri_template-1.3.0-py3-none-any.whl.metadata (8.8 kB)\n",
      "Collecting webcolors>=1.11 (from jsonschema[format-nongpl]>=4.18.0->jupyter-events>=0.9.0->jupyter-server<3,>=2.4.0->notebook>=4.4.1->widgetsnbextension~=3.6.6->ipywidgets<9,>=7.6.0->ipympl)\n",
      "  Downloading webcolors-24.11.1-py3-none-any.whl.metadata (2.2 kB)\n",
      "Requirement already satisfied: cffi>=1.0.1 in c:\\users\\sumit\\anaconda4\\lib\\site-packages (from argon2-cffi-bindings->argon2-cffi>=21.1->jupyter-server<3,>=2.4.0->notebook>=4.4.1->widgetsnbextension~=3.6.6->ipywidgets<9,>=7.6.0->ipympl) (1.16.0)\n",
      "Requirement already satisfied: soupsieve>1.2 in c:\\users\\sumit\\anaconda4\\lib\\site-packages (from beautifulsoup4->nbconvert>=6.4.4->jupyter-server<3,>=2.4.0->notebook>=4.4.1->widgetsnbextension~=3.6.6->ipywidgets<9,>=7.6.0->ipympl) (2.5)\n",
      "Requirement already satisfied: pycparser in c:\\users\\sumit\\anaconda4\\lib\\site-packages (from cffi>=1.0.1->argon2-cffi-bindings->argon2-cffi>=21.1->jupyter-server<3,>=2.4.0->notebook>=4.4.1->widgetsnbextension~=3.6.6->ipywidgets<9,>=7.6.0->ipympl) (2.21)\n",
      "Requirement already satisfied: arrow>=0.15.0 in c:\\users\\sumit\\anaconda4\\lib\\site-packages (from isoduration->jsonschema[format-nongpl]>=4.18.0->jupyter-events>=0.9.0->jupyter-server<3,>=2.4.0->notebook>=4.4.1->widgetsnbextension~=3.6.6->ipywidgets<9,>=7.6.0->ipympl) (1.2.3)\n",
      "Downloading ipympl-0.9.7-py3-none-any.whl (515 kB)\n",
      "   ---------------------------------------- 0.0/515.7 kB ? eta -:--:--\n",
      "   ------ --------------------------------- 81.9/515.7 kB ? eta -:--:--\n",
      "   --------- ------------------------------ 122.9/515.7 kB 2.4 MB/s eta 0:00:01\n",
      "   -------------- ------------------------- 184.3/515.7 kB 1.4 MB/s eta 0:00:01\n",
      "   -------------------- ------------------- 266.2/515.7 kB 1.6 MB/s eta 0:00:01\n",
      "   ----------------------- ---------------- 297.0/515.7 kB 1.3 MB/s eta 0:00:01\n",
      "   ------------------------- -------------- 327.7/515.7 kB 1.4 MB/s eta 0:00:01\n",
      "   ------------------------------ --------- 399.4/515.7 kB 1.3 MB/s eta 0:00:01\n",
      "   ------------------------------ --------- 399.4/515.7 kB 1.3 MB/s eta 0:00:01\n",
      "   ------------------------------ --------- 399.4/515.7 kB 1.3 MB/s eta 0:00:01\n",
      "   ----------------------------------- ---- 460.8/515.7 kB 1.0 MB/s eta 0:00:01\n",
      "   ---------------------------------------- 515.7/515.7 kB 1.1 MB/s eta 0:00:00\n",
      "Downloading webcolors-24.11.1-py3-none-any.whl (14 kB)\n",
      "Downloading fqdn-1.5.1-py3-none-any.whl (9.1 kB)\n",
      "Downloading isoduration-20.11.0-py3-none-any.whl (11 kB)\n",
      "Downloading uri_template-1.3.0-py3-none-any.whl (11 kB)\n",
      "Installing collected packages: webcolors, uri-template, fqdn, isoduration, ipympl\n",
      "Successfully installed fqdn-1.5.1 ipympl-0.9.7 isoduration-20.11.0 uri-template-1.3.0 webcolors-24.11.1\n"
     ]
    }
   ],
   "source": [
    "!pip install ipympl "
   ]
  },
  {
   "cell_type": "markdown",
   "metadata": {},
   "source": [
    "### Plot Data Cube FITS File "
   ]
  },
  {
   "cell_type": "code",
   "execution_count": 15,
   "metadata": {},
   "outputs": [],
   "source": [
    "%matplotlib widget\n",
    "import numpy as np\n",
    "import matplotlib.pyplot as plt\n",
    "from astropy.io import fits"
   ]
  },
  {
   "cell_type": "code",
   "execution_count": 2,
   "metadata": {},
   "outputs": [
    {
     "data": {
      "text/plain": [
       "[<astropy.io.fits.hdu.image.PrimaryHDU object at 0x00000182AE23F7A0>, <astropy.io.fits.hdu.image.ImageHDU object at 0x00000182AE4EB350>, <astropy.io.fits.hdu.image.ImageHDU object at 0x00000182AE4C2E40>, <astropy.io.fits.hdu.image.ImageHDU object at 0x00000182AE4E8890>, <astropy.io.fits.hdu.image.ImageHDU object at 0x00000182AE4EBC50>, <astropy.io.fits.hdu.image.ImageHDU object at 0x00000182AE4F8410>, <astropy.io.fits.hdu.image.ImageHDU object at 0x00000182AE4F8AD0>, <astropy.io.fits.hdu.image.ImageHDU object at 0x00000182AE4F9220>, <astropy.io.fits.hdu.image.ImageHDU object at 0x00000182AE4F9760>, <astropy.io.fits.hdu.image.ImageHDU object at 0x00000182AE4F9C70>, <astropy.io.fits.hdu.image.ImageHDU object at 0x00000182AE4FA2D0>, <astropy.io.fits.hdu.table.BinTableHDU object at 0x00000182AE5141D0>, <astropy.io.fits.hdu.image.ImageHDU object at 0x00000182AE514BC0>, <astropy.io.fits.hdu.image.ImageHDU object at 0x00000182AE515760>, <astropy.io.fits.hdu.image.ImageHDU object at 0x00000182AE5161B0>, <astropy.io.fits.hdu.image.ImageHDU object at 0x00000182AE516C60>, <astropy.io.fits.hdu.image.ImageHDU object at 0x00000182AE517710>, <astropy.io.fits.hdu.image.ImageHDU object at 0x00000182AE58C200>, <astropy.io.fits.hdu.image.ImageHDU object at 0x00000182AE58CCB0>, <astropy.io.fits.hdu.image.ImageHDU object at 0x00000182AE58D760>, <astropy.io.fits.hdu.table.BinTableHDU object at 0x00000182AE58E120>, <astropy.io.fits.hdu.table.BinTableHDU object at 0x00000182AE58E990>, <astropy.io.fits.hdu.table.BinTableHDU object at 0x00000182AE58F200>, <astropy.io.fits.hdu.table.BinTableHDU object at 0x00000182AE58FA70>]"
      ]
     },
     "execution_count": 2,
     "metadata": {},
     "output_type": "execute_result"
    }
   ],
   "source": [
    "cube=fits.open('manga-11863-1901-LINCUBE.fits')\n",
    "cube"
   ]
  },
  {
   "cell_type": "code",
   "execution_count": 3,
   "metadata": {},
   "outputs": [
    {
     "name": "stdout",
     "output_type": "stream",
     "text": [
      "Filename: manga-11863-1901-LINCUBE.fits\n",
      "No.    Name      Ver    Type      Cards   Dimensions   Format\n",
      "  0  PRIMARY       1 PrimaryHDU      75   ()      \n",
      "  1  FLUX          1 ImageHDU       100   (34, 34, 6732)   float32   \n",
      "  2  IVAR          1 ImageHDU        17   (34, 34, 6732)   float32   \n",
      "  3  MASK          1 ImageHDU        17   (34, 34, 6732)   int32   \n",
      "  4  LSFPOST       1 ImageHDU        11   (34, 34, 6732)   float32   \n",
      "  5  LSFPRE        1 ImageHDU        11   (34, 34, 6732)   float32   \n",
      "  6  WAVE          1 ImageHDU         9   (6732,)   float64   \n",
      "  7  SPECRES       1 ImageHDU         9   (6732,)   float64   \n",
      "  8  SPECRESD      1 ImageHDU         9   (6732,)   float64   \n",
      "  9  PRESPECRES    1 ImageHDU         9   (6732,)   float64   \n",
      " 10  PRESPECRESD    1 ImageHDU         9   (6732,)   float64   \n",
      " 11  OBSINFO       1 BinTableHDU    148   12R x 65C   [26A, 17A, 5A, J, I, 8A, E, E, E, E, E, E, J, J, I, J, E, 12A, J, 8A, E, E, E, E, E, E, E, E, E, E, E, E, E, E, E, E, E, E, E, 13A, E, E, E, E, D, D, D, D, E, E, J, J, J, E, E, E, E, E, E, J, J, E, E, E, E]   \n",
      " 12  GIMG          1 ImageHDU        28   (34, 34)   float32   \n",
      " 13  RIMG          1 ImageHDU        28   (34, 34)   float32   \n",
      " 14  IIMG          1 ImageHDU        28   (34, 34)   float32   \n",
      " 15  ZIMG          1 ImageHDU        28   (34, 34)   float32   \n",
      " 16  GPSF          1 ImageHDU        28   (34, 34)   float32   \n",
      " 17  RPSF          1 ImageHDU        28   (34, 34)   float32   \n",
      " 18  IPSF          1 ImageHDU        28   (34, 34)   float32   \n",
      " 19  ZPSF          1 ImageHDU        28   (34, 34)   float32   \n",
      " 20  GCORREL       1 BinTableHDU     32   20346R x 5C   [J, J, J, J, D]   \n",
      " 21  RCORREL       1 BinTableHDU     32   20632R x 5C   [J, J, J, J, D]   \n",
      " 22  ICORREL       1 BinTableHDU     32   21464R x 5C   [J, J, J, J, D]   \n",
      " 23  ZCORREL       1 BinTableHDU     32   22054R x 5C   [J, J, J, J, D]   \n"
     ]
    }
   ],
   "source": [
    "cube.info()"
   ]
  },
  {
   "cell_type": "code",
   "execution_count": 5,
   "metadata": {},
   "outputs": [
    {
     "data": {
      "text/plain": [
       "array([[[0., 0., 0., ..., 0., 0., 0.],\n",
       "        [0., 0., 0., ..., 0., 0., 0.],\n",
       "        [0., 0., 0., ..., 0., 0., 0.],\n",
       "        ...,\n",
       "        [0., 0., 0., ..., 0., 0., 0.],\n",
       "        [0., 0., 0., ..., 0., 0., 0.],\n",
       "        [0., 0., 0., ..., 0., 0., 0.]],\n",
       "\n",
       "       [[0., 0., 0., ..., 0., 0., 0.],\n",
       "        [0., 0., 0., ..., 0., 0., 0.],\n",
       "        [0., 0., 0., ..., 0., 0., 0.],\n",
       "        ...,\n",
       "        [0., 0., 0., ..., 0., 0., 0.],\n",
       "        [0., 0., 0., ..., 0., 0., 0.],\n",
       "        [0., 0., 0., ..., 0., 0., 0.]],\n",
       "\n",
       "       [[0., 0., 0., ..., 0., 0., 0.],\n",
       "        [0., 0., 0., ..., 0., 0., 0.],\n",
       "        [0., 0., 0., ..., 0., 0., 0.],\n",
       "        ...,\n",
       "        [0., 0., 0., ..., 0., 0., 0.],\n",
       "        [0., 0., 0., ..., 0., 0., 0.],\n",
       "        [0., 0., 0., ..., 0., 0., 0.]],\n",
       "\n",
       "       ...,\n",
       "\n",
       "       [[0., 0., 0., ..., 0., 0., 0.],\n",
       "        [0., 0., 0., ..., 0., 0., 0.],\n",
       "        [0., 0., 0., ..., 0., 0., 0.],\n",
       "        ...,\n",
       "        [0., 0., 0., ..., 0., 0., 0.],\n",
       "        [0., 0., 0., ..., 0., 0., 0.],\n",
       "        [0., 0., 0., ..., 0., 0., 0.]],\n",
       "\n",
       "       [[0., 0., 0., ..., 0., 0., 0.],\n",
       "        [0., 0., 0., ..., 0., 0., 0.],\n",
       "        [0., 0., 0., ..., 0., 0., 0.],\n",
       "        ...,\n",
       "        [0., 0., 0., ..., 0., 0., 0.],\n",
       "        [0., 0., 0., ..., 0., 0., 0.],\n",
       "        [0., 0., 0., ..., 0., 0., 0.]],\n",
       "\n",
       "       [[0., 0., 0., ..., 0., 0., 0.],\n",
       "        [0., 0., 0., ..., 0., 0., 0.],\n",
       "        [0., 0., 0., ..., 0., 0., 0.],\n",
       "        ...,\n",
       "        [0., 0., 0., ..., 0., 0., 0.],\n",
       "        [0., 0., 0., ..., 0., 0., 0.],\n",
       "        [0., 0., 0., ..., 0., 0., 0.]]], dtype='>f4')"
      ]
     },
     "execution_count": 5,
     "metadata": {},
     "output_type": "execute_result"
    }
   ],
   "source": [
    "flux=cube[1].data\n",
    "flux"
   ]
  },
  {
   "cell_type": "code",
   "execution_count": 6,
   "metadata": {},
   "outputs": [
    {
     "data": {
      "text/plain": [
       "XTENSION= 'IMAGE   '           / IMAGE extension                                \n",
       "BITPIX  =                  -32 / Number of bits per data pixel                  \n",
       "NAXIS   =                    3 / Number of data axes                            \n",
       "NAXIS1  =                   34 /                                                \n",
       "NAXIS2  =                   34 /                                                \n",
       "NAXIS3  =                 6732 /                                                \n",
       "PCOUNT  =                    0 / No Group Parameters                            \n",
       "GCOUNT  =                    1 / One Data Group                                 \n",
       "AUTHOR  = 'Brian Cherinka & David Law <bcherinka@stsci.edu, dlaw@stsci.edu>' /  \n",
       "VERSDRP2= 'v3_1_1  '           / MaNGA DRP version (2d processing)              \n",
       "VERSDRP3= 'v3_1_1  '           / MaNGA DRP Version (3d processing)              \n",
       "VERSPLDS= 'v5_1    '           / Platedesign Version                            \n",
       "VERSFLAT= 'v1_33   '           / Specflat Version                               \n",
       "VERSCORE= 'v1_9_1  '           / MaNGAcore Version                              \n",
       "VERSPRIM= 'v2_9    '           / MaNGA Preimaging Version                       \n",
       "VERSUTIL= 'v5_5_36 '           / Version of idlutils                            \n",
       "VERSIDL = 'x86_64 linux unix linux 7.1.1 Aug 21 2009 64 64 ' / Version of IDL   \n",
       "BSCALE  =              1.00000 / Intensity unit scaling                         \n",
       "BZERO   =              0.00000 / Intensity zeropoint                            \n",
       "BUNIT   = '1E-17 erg/s/cm^2/Angstrom/spaxel' / Specific intensity (per spaxel)  \n",
       "MASKNAME= 'MANGA_DRP3PIXMASK'  / Bits in sdssMaskbits.par used by mask extension\n",
       "TELESCOP= 'SDSS 2.5-M'         / Sloan Digital Sky Survey                       \n",
       "INSTRUME= 'MaNGA   '           / SDSS-IV MaNGA IFU                              \n",
       "SRVYMODE= 'MaNGA dither'       / Survey leading this observation and its mode   \n",
       "PLATETYP= 'APOGEE-2&MaNGA'     / Type of plate (e.g. MaNGA, APOGEE-2&MANGA)     \n",
       "OBJSYS  = 'ICRS    '           / The TCC objSys                                 \n",
       "EQUINOX =              2000.00 /                                                \n",
       "RADESYS = 'FK5     '           /                                                \n",
       "LAMPLIST= 'lamphgcdne.dat'     /                                                \n",
       "TPLDATA = 'BOSZ_3000-11000A.fits' /                                             \n",
       "NEXP    =                   12 / Total number of exposures                      \n",
       "EXPTIME =              10800.8 / Total exposure time (seconds)                  \n",
       "BLUESN2 =              21.7437 / Total SN2 in blue channel                      \n",
       "REDSN2  =              55.6632 / Total SN2 in red channel                       \n",
       "AIRMSMIN=              1.08464 / Minimum airmass                                \n",
       "AIRMSMED=              1.08979 / Median airmass                                 \n",
       "AIRMSMAX=              1.22168 / Maximum airmass                                \n",
       "SEEMIN  =              1.27454 / Best guider seeing                             \n",
       "SEEMED  =              1.44565 / Median guider seeing                           \n",
       "SEEMAX  =              1.69926 / Worst guider seeing                            \n",
       "TRANSMIN=             0.591722 / Worst guider transparency                      \n",
       "TRANSMED=             0.840862 / Median guider transparency                     \n",
       "TRANSMAX=             0.870898 / Best guider transparency                       \n",
       "MJDMIN  =                58628 / MJD of first exposure                          \n",
       "MJDMED  =                58628 / MJD of median exposure                         \n",
       "MJDMAX  =                58629 / MJD of last exposure                           \n",
       "DATE-OBS= '2019-05-25'         / Date of median exposure                        \n",
       "MJDRED  =                59188 / MJD of the reduction                           \n",
       "DATERED = '2020-12-05'         / Date of the reduction                          \n",
       "MNGTARG1=                 2336 / manga_target1 maskbit                          \n",
       "MNGTARG2=                    0 / manga_target2 maskbit                          \n",
       "MNGTARG3=                    0 / manga_target3 maskbit                          \n",
       "IFURA   =        192.804940000 / IFU R.A. (J2000 deg.)                          \n",
       "IFUDEC  =        55.5633710000 / IFU Dec. (J2000 deg.)                          \n",
       "OBJRA   =        192.804944350 / Object R.A. (J2000 deg.)                       \n",
       "OBJDEC  =        55.5633706819 / Object Dec. (J2000 deg.)                       \n",
       "CENRA   =        193.357740000 / Plate center R.A. (J2000 deg.)                 \n",
       "CENDEC  =        55.7209360000 / Plate center Dec. (J2000 deg.)                 \n",
       "PLATEID =                11863 / Current plate                                  \n",
       "DESIGNID=                12050 / Current design                                 \n",
       "IFUDSGN =                 1901 / ifuDesign                                      \n",
       "FRLPLUG =                   29 / Plugged ferrule                                \n",
       "PLATEIFU= '11863-1901'         / PLATEID-ifuDesign                              \n",
       "CARTID  = '6       '           / Cart(s) used                                   \n",
       "HARNAME = 'ma132   '           / Harness name(s)                                \n",
       "METFILE = 'ma132-56995-3.par'  / IFU metrology file(s)                          \n",
       "MANGAID = '1-195171'           / MaNGA ID number                                \n",
       "CATIDNUM= '1       '           / Primary target input catalog                   \n",
       "PLTTARG = 'plateTargets-1.par' / plateTarget reference file                     \n",
       "DRP3QUAL=                    0 / DRP-3d quality bitmask                         \n",
       "IFUGLON =        122.996759255 / IFU Galactic longitude (deg)                   \n",
       "IFUGLAT =        61.5649944754 / IFU Galactic latitude (deg)                    \n",
       "EBVGAL  =            0.0119769 / Galactic reddening E(B-V)                      \n",
       "GFWHM   =              2.40610 / Reconstructed FWHM in g-band (arcsec)          \n",
       "RFWHM   =              2.44097 / Reconstructed FWHM in r-band (arcsec)          \n",
       "IFWHM   =              2.45045 / Reconstructed FWHM in i-band (arcsec)          \n",
       "ZFWHM   =              2.44542 / Reconstructed FWHM in z-band (arcsec)          \n",
       "CTYPE3  = 'WAVE    '           /                                                \n",
       "CRPIX3  =                    1 / Starting pixel (1-indexed)                     \n",
       "CRVAL3  =        3622.00000000 / Central wavelength of first pixel              \n",
       "CD3_3   =        1.00000000000 / Linear dispersion per pixel                    \n",
       "CUNIT3  = 'Angstrom'           /                                                \n",
       "CRPIX1  =              18.0000 /Reference pixel (1-indexed)                     \n",
       "CRPIX2  =              18.0000 /Reference pixel (1-indexed)                     \n",
       "CRVAL1  =        192.804940000 /                                                \n",
       "CRVAL2  =        55.5633710000 /                                                \n",
       "CD1_1   =         -0.000138889 /                                                \n",
       "CD2_2   =          0.000138889 /                                                \n",
       "CTYPE1  = 'RA---TAN'           /                                                \n",
       "CTYPE2  = 'DEC--TAN'           /                                                \n",
       "CUNIT1  = 'deg     '           /                                                \n",
       "CUNIT2  = 'deg     '           /                                                \n",
       "HDUCLASS= 'SDSS    '           /SDSS format class                               \n",
       "HDUCLAS1= 'CUBE    '           /                                                \n",
       "HDUCLAS2= 'DATA    '           /                                                \n",
       "ERRDATA = 'IVAR    '           / Error extension name                           \n",
       "QUALDATA= 'MASK    '           / Mask extension name                            \n",
       "EXTNAME = 'FLUX    '           /                                                \n",
       "DATASUM = '868855811'          / data unit checksum updated 2020-12-05T00:20:43 \n",
       "CHECKSUM= 'jelamdjZjdjajdjW'   / HDU checksum updated 2020-12-05T00:20:43       "
      ]
     },
     "execution_count": 6,
     "metadata": {},
     "output_type": "execute_result"
    }
   ],
   "source": [
    "cube[1].header"
   ]
  },
  {
   "cell_type": "code",
   "execution_count": 7,
   "metadata": {},
   "outputs": [
    {
     "data": {
      "text/plain": [
       "'MaNGA'"
      ]
     },
     "execution_count": 7,
     "metadata": {},
     "output_type": "execute_result"
    }
   ],
   "source": [
    "cube[1].header['INSTRUME']"
   ]
  },
  {
   "cell_type": "markdown",
   "metadata": {},
   "source": [
    "## Plot Galaxy image"
   ]
  },
  {
   "cell_type": "code",
   "execution_count": 16,
   "metadata": {},
   "outputs": [
    {
     "data": {
      "application/vnd.jupyter.widget-view+json": {
       "model_id": "9b21fe605c594a398e4f6667c14d2013",
       "version_major": 2,
       "version_minor": 0
      },
      "image/png": "[encoded data removed]",
      "text/html": [
       "\n",
       "            <div style=\"display: inline-block;\">\n",
       "                <div class=\"jupyter-widgets widget-label\" style=\"text-align: center;\">\n",
       "                    Figure\n",
       "                </div>\n",
       "                <img src='data:image/png;base64,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' width=640.0/>\n",
       "            </div>\n",
       "        "
      ],
      "text/plain": [
       "Canvas(toolbar=Toolbar(toolitems=[('Home', 'Reset original view', 'home', 'home'), ('Back', 'Back to previous …"
      ]
     },
     "metadata": {},
     "output_type": "display_data"
    }
   ],
   "source": [
    "plt.figure()\n",
    "image=flux[2500,:,:]\n",
    "plt.imshow(image)\n",
    "plt.show()"
   ]
  },
  {
   "cell_type": "markdown",
   "metadata": {},
   "source": [
    "## Read Spectra from data cube at (x,y)"
   ]
  },
  {
   "cell_type": "code",
   "execution_count": 20,
   "metadata": {},
   "outputs": [
    {
     "data": {
      "application/vnd.jupyter.widget-view+json": {
       "model_id": "7bc2c877e9c64f018189c7cc42f0d355",
       "version_major": 2,
       "version_minor": 0
      },
      "image/png": "[encoded data removed]",
      "text/html": [
       "\n",
       "            <div style=\"display: inline-block;\">\n",
       "                <div class=\"jupyter-widgets widget-label\" style=\"text-align: center;\">\n",
       "                    Figure\n",
       "                </div>\n",
       "                <img src='data:image/png;base64,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' width=640.0/>\n",
       "            </div>\n",
       "        "
      ],
      "text/plain": [
       "Canvas(toolbar=Toolbar(toolitems=[('Home', 'Reset original view', 'home', 'home'), ('Back', 'Back to previous …"
      ]
     },
     "metadata": {},
     "output_type": "display_data"
    }
   ],
   "source": [
    "plt.figure()\n",
    "spectra=flux[:,23,33]\n",
    "plt.plot(spectra)\n",
    "plt.show()"
   ]
  },
  {
   "cell_type": "code",
   "execution_count": null,
   "metadata": {},
   "outputs": [],
   "source": []
  }
 ],
 "metadata": {
  "kernelspec": {
   "display_name": "base",
   "language": "python",
   "name": "python3"
  },
  "language_info": {
   "codemirror_mode": {
    "name": "ipython",
    "version": 3
   },
   "file_extension": ".py",
   "mimetype": "text/x-python",
   "name": "python",
   "nbconvert_exporter": "python",
   "pygments_lexer": "ipython3",
   "version": "3.12.4"
  }
 },
 "nbformat": 4,
 "nbformat_minor": 2
}
